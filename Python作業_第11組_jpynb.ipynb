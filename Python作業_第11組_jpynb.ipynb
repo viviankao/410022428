{
  "nbformat": 4,
  "nbformat_minor": 0,
  "metadata": {
    "colab": {
      "provenance": [],
      "toc_visible": true
    },
    "kernelspec": {
      "name": "python3",
      "display_name": "Python 3"
    },
    "language_info": {
      "name": "python"
    }
  },
  "cells": [
    {
      "cell_type": "markdown",
      "source": [
        "組員:呂婕筠，項芸，高譽恩，林泊俞"
      ],
      "metadata": {
        "id": "xKdN1_HRNeY0"
      }
    },
    {
      "cell_type": "markdown",
      "source": [
        "1."
      ],
      "metadata": {
        "id": "PsueTn6YC7Ht"
      }
    },
    {
      "cell_type": "code",
      "source": [
        "from google.colab import drive\n",
        "drive.mount('/content/drive')\n",
        "import pandas as pd\n",
        "df_Share=pd.read_excel(\"https://drive.google.com/uc?id=13YJURg236M6tqObCJykLZOStNdEqjfry&export=download\",header=0)\n",
        "print(df_Share)\n",
        "df_imdb_top_1000=pd.read_excel(\"https://drive.google.com/uc?id=13YJURg236M6tqObCJykLZOStNdEqjfry&export=download\",sheet_name=\"imdb_top_1000\")"
      ],
      "metadata": {
        "id": "2jwCQvmYbgsF"
      },
      "execution_count": null,
      "outputs": []
    },
    {
      "cell_type": "markdown",
      "source": [
        "2."
      ],
      "metadata": {
        "id": "jVd58UwQCq8P"
      }
    },
    {
      "cell_type": "code",
      "source": [
        "df_CSV2=df_CSV.copy()\n",
        "df_CSV2.columns=['Series_Title','Released_Year','Certificate','Runtime','IMDB_Rating','Meta_score','No_of_Votes','Gross']\n",
        "df_CSV2\n",
        "df_CSV.rename(columns={'Series_Title': '電影片名','Runtime': '影片長度'})"
      ],
      "metadata": {
        "colab": {
          "base_uri": "https://localhost:8080/",
          "height": 200
        },
        "id": "f53gn30VcK1-",
        "outputId": "685f51e5-4fec-4d4e-b55b-2fd38845c6fc"
      },
      "execution_count": null,
      "outputs": [
        {
          "output_type": "error",
          "ename": "NameError",
          "evalue": "name 'df_CSV' is not defined",
          "traceback": [
            "\u001b[0;31m---------------------------------------------------------------------------\u001b[0m",
            "\u001b[0;31mNameError\u001b[0m                                 Traceback (most recent call last)",
            "\u001b[0;32m<ipython-input-13-d33a2b847c02>\u001b[0m in \u001b[0;36m<cell line: 1>\u001b[0;34m()\u001b[0m\n\u001b[0;32m----> 1\u001b[0;31m \u001b[0mdf_CSV2\u001b[0m\u001b[0;34m=\u001b[0m\u001b[0mdf_CSV\u001b[0m\u001b[0;34m.\u001b[0m\u001b[0mcopy\u001b[0m\u001b[0;34m(\u001b[0m\u001b[0;34m)\u001b[0m\u001b[0;34m\u001b[0m\u001b[0;34m\u001b[0m\u001b[0m\n\u001b[0m\u001b[1;32m      2\u001b[0m \u001b[0mdf_CSV2\u001b[0m\u001b[0;34m.\u001b[0m\u001b[0mcolumns\u001b[0m\u001b[0;34m=\u001b[0m\u001b[0;34m[\u001b[0m\u001b[0;34m'Series_Title'\u001b[0m\u001b[0;34m,\u001b[0m\u001b[0;34m'Released_Year'\u001b[0m\u001b[0;34m,\u001b[0m\u001b[0;34m'Certificate'\u001b[0m\u001b[0;34m,\u001b[0m\u001b[0;34m'Runtime'\u001b[0m\u001b[0;34m,\u001b[0m\u001b[0;34m'IMDB_Rating'\u001b[0m\u001b[0;34m,\u001b[0m\u001b[0;34m'Meta_score'\u001b[0m\u001b[0;34m,\u001b[0m\u001b[0;34m'No_of_Votes'\u001b[0m\u001b[0;34m,\u001b[0m\u001b[0;34m'Gross'\u001b[0m\u001b[0;34m]\u001b[0m\u001b[0;34m\u001b[0m\u001b[0;34m\u001b[0m\u001b[0m\n\u001b[1;32m      3\u001b[0m \u001b[0mdf_CSV2\u001b[0m\u001b[0;34m\u001b[0m\u001b[0;34m\u001b[0m\u001b[0m\n\u001b[1;32m      4\u001b[0m \u001b[0mdf_CSV\u001b[0m\u001b[0;34m.\u001b[0m\u001b[0mrename\u001b[0m\u001b[0;34m(\u001b[0m\u001b[0mcolumns\u001b[0m\u001b[0;34m=\u001b[0m\u001b[0;34m{\u001b[0m\u001b[0;34m'Series_Title'\u001b[0m\u001b[0;34m:\u001b[0m \u001b[0;34m'電影片名'\u001b[0m\u001b[0;34m,\u001b[0m\u001b[0;34m'Runtime'\u001b[0m\u001b[0;34m:\u001b[0m \u001b[0;34m'影片長度'\u001b[0m\u001b[0;34m}\u001b[0m\u001b[0;34m)\u001b[0m\u001b[0;34m\u001b[0m\u001b[0;34m\u001b[0m\u001b[0m\n",
            "\u001b[0;31mNameError\u001b[0m: name 'df_CSV' is not defined"
          ]
        }
      ]
    },
    {
      "cell_type": "markdown",
      "source": [
        "3."
      ],
      "metadata": {
        "id": "l-6H4KFOTnMO"
      }
    },
    {
      "cell_type": "code",
      "source": [
        "print(df.info())\n",
        "df_CSV[\"order_no\"]=df_CSV[\"order_no\"].to_string()"
      ],
      "metadata": {
        "id": "ENJupEvZcSVJ"
      },
      "execution_count": null,
      "outputs": []
    },
    {
      "cell_type": "markdown",
      "source": [
        "4."
      ],
      "metadata": {
        "id": "kG0dhODiLg5M"
      }
    },
    {
      "cell_type": "code",
      "source": [
        "import pandas as pd\n",
        "df_Share=pd.read_excel(\"https://docs.google.com/spreadsheets/d/1ZuLhZjS0KGzNU0jDEeCwwxjGUyNb6cpO/edit#gid=1826780789\",header=0)\n",
        "print(df_Share)\n",
        "df_DataFrame=pd.read_excel(\"https://drive.google.com/uc?id=1ZuLhZjS0KGzNU0jDEeCwwxjGUyNb6cpO\",sheet_name=\"imdb1000資料集\")\n",
        "DataFrame.dropna(axis=0,how=\"any\")\n",
        "imdb_drop = DataFrame.dropna()"
      ],
      "metadata": {
        "id": "22JAu0mPcYAX"
      },
      "execution_count": null,
      "outputs": []
    },
    {
      "cell_type": "markdown",
      "source": [
        "5."
      ],
      "metadata": {
        "id": "Oz5j65q9QYx6"
      }
    },
    {
      "cell_type": "code",
      "source": [
        "import pandas as pd\n",
        "\n",
        "# 假設已經有一個名為 imdb_drop 的 DataFrame\n",
        "data = {\n",
        "    'Movie': ['Movie1', 'Movie2', 'Movie3', 'Movie4', 'Movie5'],\n",
        "    'IMDB_Rating': [9.2, 8.7, 8.1, 7.9, 8.6]\n",
        "}\n",
        "\n",
        "# 創建 DataFrame\n",
        "imdb_drop = pd.DataFrame(data)\n",
        "\n",
        "# 定義一個函數來根據 IMDB_Rating 設定評等\n",
        "def get_rating_category(rating):\n",
        "    if rating >= 9.0:\n",
        "        return 'A'\n",
        "    elif rating < 9.0 and rating >= 8.5:\n",
        "        return 'B'\n",
        "    elif rating < 8.5 and rating >= 8.0:\n",
        "        return 'C'\n",
        "    else:\n",
        "        return 'D'\n",
        "\n",
        "# 使用 apply 方法將評等加入 DataFrame\n",
        "imdb_drop['評等'] = imdb_drop['IMDB_Rating'].apply(get_rating_category)\n",
        "\n",
        "# 顯示更新後的 DataFrame\n",
        "print(imdb_drop)\n"
      ],
      "metadata": {
        "id": "Ld-f29-JGHTn",
        "outputId": "d98472ad-bba3-4ed4-827b-a696d0efc9c0",
        "colab": {
          "base_uri": "https://localhost:8080/"
        }
      },
      "execution_count": null,
      "outputs": [
        {
          "output_type": "stream",
          "name": "stdout",
          "text": [
            "    Movie  IMDB_Rating 評等\n",
            "0  Movie1          9.2  A\n",
            "1  Movie2          8.7  B\n",
            "2  Movie3          8.1  C\n",
            "3  Movie4          7.9  D\n",
            "4  Movie5          8.6  B\n"
          ]
        }
      ]
    },
    {
      "cell_type": "markdown",
      "source": [
        "6"
      ],
      "metadata": {
        "id": "tx6HzfCIGZDs"
      }
    },
    {
      "cell_type": "code",
      "source": [
        "import pandas as pd\n",
        "\n",
        "data = {\n",
        "    '電影片名': ['Movie1', 'Movie2', 'Movie3', 'Movie4', 'Movie5'],\n",
        "    'IMDB_Rating': [9.2, 8.7, 8.1, 7.9, 8.6]\n",
        "}\n",
        "\n",
        "imdb_drop = pd.DataFrame(data)\n",
        "\n",
        "def get_rating_category(rating):\n",
        "    if rating >= 9.0:\n",
        "        return 'A'\n",
        "    elif rating < 9.0 and rating >= 8.5:\n",
        "        return 'B'\n",
        "    elif rating < 8.5 and rating >= 8.0:\n",
        "        return 'C'\n",
        "    else:\n",
        "        return 'D'\n",
        "\n",
        "imdb_drop['評等'] = imdb_drop['IMDB_Rating'].apply(get_rating_category)\n",
        "\n",
        "imdb_drop.set_index('電影片名', inplace=True)\n",
        "\n",
        "print(imdb_drop)\n"
      ],
      "metadata": {
        "id": "Wkmi3h8mGbk2",
        "colab": {
          "base_uri": "https://localhost:8080/"
        },
        "outputId": "f601d41e-5cce-4846-c169-b4bbe6273ea4"
      },
      "execution_count": null,
      "outputs": [
        {
          "output_type": "stream",
          "name": "stdout",
          "text": [
            "        IMDB_Rating 評等\n",
            "電影片名                  \n",
            "Movie1          9.2  A\n",
            "Movie2          8.7  B\n",
            "Movie3          8.1  C\n",
            "Movie4          7.9  D\n",
            "Movie5          8.6  B\n"
          ]
        }
      ]
    },
    {
      "cell_type": "markdown",
      "source": [
        "7"
      ],
      "metadata": {
        "id": "ssYGH43kGc20"
      }
    },
    {
      "cell_type": "code",
      "source": [
        "import pandas as pd\n",
        "\n",
        "data = {\n",
        "    '電影片名': ['Movie1', 'Movie2', 'Movie3', 'Movie4', 'Movie5'],\n",
        "    '影片長度': [120, 150, 90, 110, 130],\n",
        "    'IMDB_Rating': [9.2, 8.7, 8.1, 7.9, 8.6],\n",
        "    'Meta_scores': [88, 75, 80, 70, 85],\n",
        "    'No_of_Votes': [120000, 80000, 50000, 30000, 100000],\n",
        "    'Gross': [150000000, 100000000, 80000000, 50000000, 120000000]\n",
        "}\n",
        "\n",
        "imdb_drop = pd.DataFrame(data)\n",
        "\n",
        "imdb_drop.set_index('電影片名', inplace=True)\n",
        "\n",
        "imdb_numeric = imdb_drop[['影片長度', 'IMDB_Rating', 'Meta_scores', 'No_of_Votes', 'Gross']]\n",
        "\n",
        "print(imdb_numeric)\n"
      ],
      "metadata": {
        "id": "oN3irHsgHxQ-",
        "colab": {
          "base_uri": "https://localhost:8080/"
        },
        "outputId": "3f549967-e9d3-420b-e43a-a318edfb824f"
      },
      "execution_count": null,
      "outputs": [
        {
          "output_type": "stream",
          "name": "stdout",
          "text": [
            "        影片長度  IMDB_Rating  Meta_scores  No_of_Votes      Gross\n",
            "電影片名                                                          \n",
            "Movie1   120          9.2           88       120000  150000000\n",
            "Movie2   150          8.7           75        80000  100000000\n",
            "Movie3    90          8.1           80        50000   80000000\n",
            "Movie4   110          7.9           70        30000   50000000\n",
            "Movie5   130          8.6           85       100000  120000000\n"
          ]
        }
      ]
    },
    {
      "cell_type": "markdown",
      "source": [
        "8"
      ],
      "metadata": {
        "id": "7ujGxhGHGkSm"
      }
    },
    {
      "cell_type": "code",
      "source": [
        "import pandas as pd\n",
        "import numpy as np\n",
        "\n",
        "data = {\n",
        "    '電影片名': ['Movie1', 'Movie2', 'Movie3', 'Movie4', 'Movie5'],\n",
        "    '影片長度': [120, 150, 90, 110, 130],\n",
        "    'IMDB_Rating': [9.2, 8.7, 8.1, 7.9, 8.6],\n",
        "    'Meta_scores': [88, 75, 80, 70, 85],\n",
        "    'No_of_Votes': [120000, 80000, 50000, 30000, 100000],\n",
        "    'Gross': [150000000, 100000000, 80000000, 50000000, 120000000]\n",
        "}\n",
        "\n",
        "imdb_drop = pd.DataFrame(data)\n",
        "\n",
        "imdb_drop.set_index('電影片名', inplace=True)\n",
        "\n",
        "imdb_numeric = imdb_drop[['影片長度', 'IMDB_Rating', 'Meta_scores', 'No_of_Votes', 'Gross']]\n",
        "\n",
        "mean_values = imdb_numeric.mean()\n",
        "\n",
        "std_values = imdb_numeric.std()\n",
        "\n",
        "max_values = imdb_numeric.max()\n",
        "\n",
        "min_values = imdb_numeric.min()\n",
        "\n",
        "cov_matrix = imdb_numeric.cov()\n",
        "\n",
        "corr_matrix = imdb_numeric.corr()\n",
        "\n",
        "print(\"平均數:\\n\", mean_values)\n",
        "print(\"\\n標準差:\\n\", std_values)\n",
        "print(\"\\n最大值:\\n\", max_values)\n",
        "print(\"\\n最小值:\\n\", min_values)\n",
        "print(\"\\n共變異數矩陣:\\n\", cov_matrix)\n",
        "print(\"\\n相關係數矩陣:\\n\", corr_matrix)\n"
      ],
      "metadata": {
        "id": "Sbbw05AZGm23"
      },
      "execution_count": null,
      "outputs": []
    },
    {
      "cell_type": "markdown",
      "source": [
        "9."
      ],
      "metadata": {
        "id": "Pn5ZO8aES_76"
      }
    },
    {
      "cell_type": "code",
      "source": [
        "import pandas as pd\n",
        "\n",
        "data = {\n",
        "    '片名': ['Movie1', 'Movie2', 'Movie3'],\n",
        "    '評等': [8.5, 7.2, 6.8],\n",
        "    '年份': [1994, 2001, 2020]\n",
        "}\n",
        "\n",
        "imdb_drop = pd.DataFrame(data)\n",
        "\n",
        "imdb_rate = imdb_drop[['評等']]\n",
        "\n",
        "imdb_rate\n"
      ],
      "metadata": {
        "colab": {
          "base_uri": "https://localhost:8080/",
          "height": 143
        },
        "id": "hHEP37fgSdHD",
        "outputId": "6bc44f66-7856-481c-ad6e-4b7d2568621d"
      },
      "execution_count": null,
      "outputs": [
        {
          "output_type": "execute_result",
          "data": {
            "text/plain": [
              "    評等\n",
              "0  8.5\n",
              "1  7.2\n",
              "2  6.8"
            ],
            "text/html": [
              "\n",
              "  <div id=\"df-8cbfce42-466d-4544-9d78-a47dd1a64e53\" class=\"colab-df-container\">\n",
              "    <div>\n",
              "<style scoped>\n",
              "    .dataframe tbody tr th:only-of-type {\n",
              "        vertical-align: middle;\n",
              "    }\n",
              "\n",
              "    .dataframe tbody tr th {\n",
              "        vertical-align: top;\n",
              "    }\n",
              "\n",
              "    .dataframe thead th {\n",
              "        text-align: right;\n",
              "    }\n",
              "</style>\n",
              "<table border=\"1\" class=\"dataframe\">\n",
              "  <thead>\n",
              "    <tr style=\"text-align: right;\">\n",
              "      <th></th>\n",
              "      <th>評等</th>\n",
              "    </tr>\n",
              "  </thead>\n",
              "  <tbody>\n",
              "    <tr>\n",
              "      <th>0</th>\n",
              "      <td>8.5</td>\n",
              "    </tr>\n",
              "    <tr>\n",
              "      <th>1</th>\n",
              "      <td>7.2</td>\n",
              "    </tr>\n",
              "    <tr>\n",
              "      <th>2</th>\n",
              "      <td>6.8</td>\n",
              "    </tr>\n",
              "  </tbody>\n",
              "</table>\n",
              "</div>\n",
              "    <div class=\"colab-df-buttons\">\n",
              "\n",
              "  <div class=\"colab-df-container\">\n",
              "    <button class=\"colab-df-convert\" onclick=\"convertToInteractive('df-8cbfce42-466d-4544-9d78-a47dd1a64e53')\"\n",
              "            title=\"Convert this dataframe to an interactive table.\"\n",
              "            style=\"display:none;\">\n",
              "\n",
              "  <svg xmlns=\"http://www.w3.org/2000/svg\" height=\"24px\" viewBox=\"0 -960 960 960\">\n",
              "    <path d=\"M120-120v-720h720v720H120Zm60-500h600v-160H180v160Zm220 220h160v-160H400v160Zm0 220h160v-160H400v160ZM180-400h160v-160H180v160Zm440 0h160v-160H620v160ZM180-180h160v-160H180v160Zm440 0h160v-160H620v160Z\"/>\n",
              "  </svg>\n",
              "    </button>\n",
              "\n",
              "  <style>\n",
              "    .colab-df-container {\n",
              "      display:flex;\n",
              "      gap: 12px;\n",
              "    }\n",
              "\n",
              "    .colab-df-convert {\n",
              "      background-color: #E8F0FE;\n",
              "      border: none;\n",
              "      border-radius: 50%;\n",
              "      cursor: pointer;\n",
              "      display: none;\n",
              "      fill: #1967D2;\n",
              "      height: 32px;\n",
              "      padding: 0 0 0 0;\n",
              "      width: 32px;\n",
              "    }\n",
              "\n",
              "    .colab-df-convert:hover {\n",
              "      background-color: #E2EBFA;\n",
              "      box-shadow: 0px 1px 2px rgba(60, 64, 67, 0.3), 0px 1px 3px 1px rgba(60, 64, 67, 0.15);\n",
              "      fill: #174EA6;\n",
              "    }\n",
              "\n",
              "    .colab-df-buttons div {\n",
              "      margin-bottom: 4px;\n",
              "    }\n",
              "\n",
              "    [theme=dark] .colab-df-convert {\n",
              "      background-color: #3B4455;\n",
              "      fill: #D2E3FC;\n",
              "    }\n",
              "\n",
              "    [theme=dark] .colab-df-convert:hover {\n",
              "      background-color: #434B5C;\n",
              "      box-shadow: 0px 1px 3px 1px rgba(0, 0, 0, 0.15);\n",
              "      filter: drop-shadow(0px 1px 2px rgba(0, 0, 0, 0.3));\n",
              "      fill: #FFFFFF;\n",
              "    }\n",
              "  </style>\n",
              "\n",
              "    <script>\n",
              "      const buttonEl =\n",
              "        document.querySelector('#df-8cbfce42-466d-4544-9d78-a47dd1a64e53 button.colab-df-convert');\n",
              "      buttonEl.style.display =\n",
              "        google.colab.kernel.accessAllowed ? 'block' : 'none';\n",
              "\n",
              "      async function convertToInteractive(key) {\n",
              "        const element = document.querySelector('#df-8cbfce42-466d-4544-9d78-a47dd1a64e53');\n",
              "        const dataTable =\n",
              "          await google.colab.kernel.invokeFunction('convertToInteractive',\n",
              "                                                    [key], {});\n",
              "        if (!dataTable) return;\n",
              "\n",
              "        const docLinkHtml = 'Like what you see? Visit the ' +\n",
              "          '<a target=\"_blank\" href=https://colab.research.google.com/notebooks/data_table.ipynb>data table notebook</a>'\n",
              "          + ' to learn more about interactive tables.';\n",
              "        element.innerHTML = '';\n",
              "        dataTable['output_type'] = 'display_data';\n",
              "        await google.colab.output.renderOutput(dataTable, element);\n",
              "        const docLink = document.createElement('div');\n",
              "        docLink.innerHTML = docLinkHtml;\n",
              "        element.appendChild(docLink);\n",
              "      }\n",
              "    </script>\n",
              "  </div>\n",
              "\n",
              "\n",
              "<div id=\"df-e5d8d17b-9999-4c59-a031-77687a7d0134\">\n",
              "  <button class=\"colab-df-quickchart\" onclick=\"quickchart('df-e5d8d17b-9999-4c59-a031-77687a7d0134')\"\n",
              "            title=\"Suggest charts\"\n",
              "            style=\"display:none;\">\n",
              "\n",
              "<svg xmlns=\"http://www.w3.org/2000/svg\" height=\"24px\"viewBox=\"0 0 24 24\"\n",
              "     width=\"24px\">\n",
              "    <g>\n",
              "        <path d=\"M19 3H5c-1.1 0-2 .9-2 2v14c0 1.1.9 2 2 2h14c1.1 0 2-.9 2-2V5c0-1.1-.9-2-2-2zM9 17H7v-7h2v7zm4 0h-2V7h2v10zm4 0h-2v-4h2v4z\"/>\n",
              "    </g>\n",
              "</svg>\n",
              "  </button>\n",
              "\n",
              "<style>\n",
              "  .colab-df-quickchart {\n",
              "      --bg-color: #E8F0FE;\n",
              "      --fill-color: #1967D2;\n",
              "      --hover-bg-color: #E2EBFA;\n",
              "      --hover-fill-color: #174EA6;\n",
              "      --disabled-fill-color: #AAA;\n",
              "      --disabled-bg-color: #DDD;\n",
              "  }\n",
              "\n",
              "  [theme=dark] .colab-df-quickchart {\n",
              "      --bg-color: #3B4455;\n",
              "      --fill-color: #D2E3FC;\n",
              "      --hover-bg-color: #434B5C;\n",
              "      --hover-fill-color: #FFFFFF;\n",
              "      --disabled-bg-color: #3B4455;\n",
              "      --disabled-fill-color: #666;\n",
              "  }\n",
              "\n",
              "  .colab-df-quickchart {\n",
              "    background-color: var(--bg-color);\n",
              "    border: none;\n",
              "    border-radius: 50%;\n",
              "    cursor: pointer;\n",
              "    display: none;\n",
              "    fill: var(--fill-color);\n",
              "    height: 32px;\n",
              "    padding: 0;\n",
              "    width: 32px;\n",
              "  }\n",
              "\n",
              "  .colab-df-quickchart:hover {\n",
              "    background-color: var(--hover-bg-color);\n",
              "    box-shadow: 0 1px 2px rgba(60, 64, 67, 0.3), 0 1px 3px 1px rgba(60, 64, 67, 0.15);\n",
              "    fill: var(--button-hover-fill-color);\n",
              "  }\n",
              "\n",
              "  .colab-df-quickchart-complete:disabled,\n",
              "  .colab-df-quickchart-complete:disabled:hover {\n",
              "    background-color: var(--disabled-bg-color);\n",
              "    fill: var(--disabled-fill-color);\n",
              "    box-shadow: none;\n",
              "  }\n",
              "\n",
              "  .colab-df-spinner {\n",
              "    border: 2px solid var(--fill-color);\n",
              "    border-color: transparent;\n",
              "    border-bottom-color: var(--fill-color);\n",
              "    animation:\n",
              "      spin 1s steps(1) infinite;\n",
              "  }\n",
              "\n",
              "  @keyframes spin {\n",
              "    0% {\n",
              "      border-color: transparent;\n",
              "      border-bottom-color: var(--fill-color);\n",
              "      border-left-color: var(--fill-color);\n",
              "    }\n",
              "    20% {\n",
              "      border-color: transparent;\n",
              "      border-left-color: var(--fill-color);\n",
              "      border-top-color: var(--fill-color);\n",
              "    }\n",
              "    30% {\n",
              "      border-color: transparent;\n",
              "      border-left-color: var(--fill-color);\n",
              "      border-top-color: var(--fill-color);\n",
              "      border-right-color: var(--fill-color);\n",
              "    }\n",
              "    40% {\n",
              "      border-color: transparent;\n",
              "      border-right-color: var(--fill-color);\n",
              "      border-top-color: var(--fill-color);\n",
              "    }\n",
              "    60% {\n",
              "      border-color: transparent;\n",
              "      border-right-color: var(--fill-color);\n",
              "    }\n",
              "    80% {\n",
              "      border-color: transparent;\n",
              "      border-right-color: var(--fill-color);\n",
              "      border-bottom-color: var(--fill-color);\n",
              "    }\n",
              "    90% {\n",
              "      border-color: transparent;\n",
              "      border-bottom-color: var(--fill-color);\n",
              "    }\n",
              "  }\n",
              "</style>\n",
              "\n",
              "  <script>\n",
              "    async function quickchart(key) {\n",
              "      const quickchartButtonEl =\n",
              "        document.querySelector('#' + key + ' button');\n",
              "      quickchartButtonEl.disabled = true;  // To prevent multiple clicks.\n",
              "      quickchartButtonEl.classList.add('colab-df-spinner');\n",
              "      try {\n",
              "        const charts = await google.colab.kernel.invokeFunction(\n",
              "            'suggestCharts', [key], {});\n",
              "      } catch (error) {\n",
              "        console.error('Error during call to suggestCharts:', error);\n",
              "      }\n",
              "      quickchartButtonEl.classList.remove('colab-df-spinner');\n",
              "      quickchartButtonEl.classList.add('colab-df-quickchart-complete');\n",
              "    }\n",
              "    (() => {\n",
              "      let quickchartButtonEl =\n",
              "        document.querySelector('#df-e5d8d17b-9999-4c59-a031-77687a7d0134 button');\n",
              "      quickchartButtonEl.style.display =\n",
              "        google.colab.kernel.accessAllowed ? 'block' : 'none';\n",
              "    })();\n",
              "  </script>\n",
              "</div>\n",
              "\n",
              "  <div id=\"id_59ca4073-d8cb-4773-b344-40a40569b153\">\n",
              "    <style>\n",
              "      .colab-df-generate {\n",
              "        background-color: #E8F0FE;\n",
              "        border: none;\n",
              "        border-radius: 50%;\n",
              "        cursor: pointer;\n",
              "        display: none;\n",
              "        fill: #1967D2;\n",
              "        height: 32px;\n",
              "        padding: 0 0 0 0;\n",
              "        width: 32px;\n",
              "      }\n",
              "\n",
              "      .colab-df-generate:hover {\n",
              "        background-color: #E2EBFA;\n",
              "        box-shadow: 0px 1px 2px rgba(60, 64, 67, 0.3), 0px 1px 3px 1px rgba(60, 64, 67, 0.15);\n",
              "        fill: #174EA6;\n",
              "      }\n",
              "\n",
              "      [theme=dark] .colab-df-generate {\n",
              "        background-color: #3B4455;\n",
              "        fill: #D2E3FC;\n",
              "      }\n",
              "\n",
              "      [theme=dark] .colab-df-generate:hover {\n",
              "        background-color: #434B5C;\n",
              "        box-shadow: 0px 1px 3px 1px rgba(0, 0, 0, 0.15);\n",
              "        filter: drop-shadow(0px 1px 2px rgba(0, 0, 0, 0.3));\n",
              "        fill: #FFFFFF;\n",
              "      }\n",
              "    </style>\n",
              "    <button class=\"colab-df-generate\" onclick=\"generateWithVariable('imdb_rate')\"\n",
              "            title=\"Generate code using this dataframe.\"\n",
              "            style=\"display:none;\">\n",
              "\n",
              "  <svg xmlns=\"http://www.w3.org/2000/svg\" height=\"24px\"viewBox=\"0 0 24 24\"\n",
              "       width=\"24px\">\n",
              "    <path d=\"M7,19H8.4L18.45,9,17,7.55,7,17.6ZM5,21V16.75L18.45,3.32a2,2,0,0,1,2.83,0l1.4,1.43a1.91,1.91,0,0,1,.58,1.4,1.91,1.91,0,0,1-.58,1.4L9.25,21ZM18.45,9,17,7.55Zm-12,3A5.31,5.31,0,0,0,4.9,8.1,5.31,5.31,0,0,0,1,6.5,5.31,5.31,0,0,0,4.9,4.9,5.31,5.31,0,0,0,6.5,1,5.31,5.31,0,0,0,8.1,4.9,5.31,5.31,0,0,0,12,6.5,5.46,5.46,0,0,0,6.5,12Z\"/>\n",
              "  </svg>\n",
              "    </button>\n",
              "    <script>\n",
              "      (() => {\n",
              "      const buttonEl =\n",
              "        document.querySelector('#id_59ca4073-d8cb-4773-b344-40a40569b153 button.colab-df-generate');\n",
              "      buttonEl.style.display =\n",
              "        google.colab.kernel.accessAllowed ? 'block' : 'none';\n",
              "\n",
              "      buttonEl.onclick = () => {\n",
              "        google.colab.notebook.generateWithVariable('imdb_rate');\n",
              "      }\n",
              "      })();\n",
              "    </script>\n",
              "  </div>\n",
              "\n",
              "    </div>\n",
              "  </div>\n"
            ],
            "application/vnd.google.colaboratory.intrinsic+json": {
              "type": "dataframe",
              "variable_name": "imdb_rate",
              "summary": "{\n  \"name\": \"imdb_rate\",\n  \"rows\": 3,\n  \"fields\": [\n    {\n      \"column\": \"\\u8a55\\u7b49\",\n      \"properties\": {\n        \"dtype\": \"number\",\n        \"std\": 0.8888194417315589,\n        \"min\": 6.8,\n        \"max\": 8.5,\n        \"num_unique_values\": 3,\n        \"samples\": [\n          8.5,\n          7.2,\n          6.8\n        ],\n        \"semantic_type\": \"\",\n        \"description\": \"\"\n      }\n    }\n  ]\n}"
            }
          },
          "metadata": {},
          "execution_count": 1
        }
      ]
    },
    {
      "cell_type": "markdown",
      "source": [
        "10."
      ],
      "metadata": {
        "id": "aT2A9oJtTGZT"
      }
    },
    {
      "cell_type": "code",
      "source": [
        "\n",
        "numeric_data = {\n",
        "    '數值1': [1, 2, 3],\n",
        "    '數值2': [4, 5, 6]\n",
        "}\n",
        "\n",
        "imdb_numeric = pd.DataFrame(numeric_data)\n",
        "\n",
        "imdb_merge = pd.concat([imdb_rate, imdb_numeric], axis=1)\n",
        "\n",
        "imdb_merge\n"
      ],
      "metadata": {
        "id": "jR353mjMTKCq"
      },
      "execution_count": null,
      "outputs": []
    },
    {
      "cell_type": "markdown",
      "source": [
        "11."
      ],
      "metadata": {
        "id": "ECYeQG9aTYLB"
      }
    },
    {
      "cell_type": "code",
      "source": [
        "data = {\n",
        "    '評等': [8.5, 7.2, 6.8, 8.5, 7.2],\n",
        "    '影片長度': [120, 110, 130, 140, 100],\n",
        "    'IMDB_Rating': [8.5, 7.1, 6.8, 8.4, 7.3],\n",
        "    'Meta_score': [90, 75, 65, 88, 70],\n",
        "    'No_of_Votes': [100000, 50000, 20000, 150000, 40000],\n",
        "    'Gross': [5000000, 3000000, 1500000, 7000000, 2500000]\n",
        "}\n",
        "\n",
        "imdb_merge = pd.DataFrame(data)\n",
        "\n",
        "grouped = imdb_merge.groupby('評等').agg({\n",
        "    '影片長度': ['mean', 'count'],\n",
        "    'IMDB_Rating': ['mean', 'count'],\n",
        "    'Meta_score': ['mean', 'count'],\n",
        "    'No_of_Votes': ['mean', 'count'],\n",
        "    'Gross': ['mean', 'count']\n",
        "})\n",
        "\n",
        "grouped\n"
      ],
      "metadata": {
        "id": "mnb1rKcMTZ8p"
      },
      "execution_count": null,
      "outputs": []
    },
    {
      "cell_type": "markdown",
      "source": [
        "12.\n"
      ],
      "metadata": {
        "id": "tpIZjpCRT4im"
      }
    },
    {
      "cell_type": "code",
      "source": [
        "import matplotlib.pyplot as plt\n",
        "\n",
        "certificate_data = {'PG-13': 300, 'R': 500, 'PG': 200, 'Not Rated': 100}\n",
        "\n",
        "certificates = list(certificate_data.keys())\n",
        "counts = list(certificate_data.values())\n",
        "\n",
        "plt.figure(figsize=(8, 8))\n",
        "plt.pie(counts, labels=certificates, autopct='%1.1f%%', startangle=140)\n",
        "plt.title('認證項目圓餅圖')\n",
        "plt.axis('equal')\n",
        "plt.show()\n"
      ],
      "metadata": {
        "id": "dTmP0RlST51W"
      },
      "execution_count": null,
      "outputs": []
    },
    {
      "cell_type": "markdown",
      "source": [
        "13."
      ],
      "metadata": {
        "id": "vXst3ehy3jsF"
      }
    },
    {
      "cell_type": "code",
      "source": [
        "imdb_U = imdb_drop[imdb_drop['Certificate'] == 'U']\n",
        "\n",
        "imdb_U = imdb_U[['Certificate', 'Meta_Score']]\n",
        "\n",
        "print(imdb_U.head())\n",
        "\n",
        "imdb_U.to_csv('imdb_U.csv', index=False)\n"
      ],
      "metadata": {
        "id": "WXH_IF_H3sRf"
      },
      "execution_count": null,
      "outputs": []
    },
    {
      "cell_type": "markdown",
      "source": [
        "14."
      ],
      "metadata": {
        "id": "6hMEYhpH3pbQ"
      }
    },
    {
      "cell_type": "code",
      "source": [
        "import matplotlib.pyplot as plt\n",
        "\n",
        "meta_scores = imdb_U['Meta_Score']\n",
        "\n",
        "plt.figure(figsize=(8, 6))\n",
        "\n",
        "plt.stem(meta_scores, linefmt='grey', markerfmt='C0o', basefmt=' ')\n",
        "\n",
        "plt.xlabel('Index')\n",
        "plt.ylabel('Meta_Score')\n",
        "plt.title('Stem-and-Leaf Plot of Meta_Score')\n",
        "\n",
        "plt.show()\n"
      ],
      "metadata": {
        "id": "oWHHi1-y8Ssj"
      },
      "execution_count": null,
      "outputs": []
    },
    {
      "cell_type": "markdown",
      "source": [
        "15."
      ],
      "metadata": {
        "id": "14wlUIi-3qZO"
      }
    },
    {
      "cell_type": "code",
      "source": [
        "import seaborn as sns\n",
        "import matplotlib.pyplot as plt\n",
        "\n",
        "plt.figure(figsize=(10, 6))\n",
        "\n",
        "sns.boxplot(x='Certificate', y='No_of_Votes', data=imdb_drop)\n",
        "\n",
        "plt.xlabel('Certificate')\n",
        "plt.ylabel('No_of_Votes')\n",
        "plt.title('Boxplot of No_of_Votes by Certificate')\n",
        "\n",
        "plt.show()\n"
      ],
      "metadata": {
        "id": "ilCAat2N8aNn"
      },
      "execution_count": null,
      "outputs": []
    },
    {
      "cell_type": "markdown",
      "source": [
        "16."
      ],
      "metadata": {
        "id": "iNoPwXhHeDQL"
      }
    },
    {
      "cell_type": "code",
      "source": [
        "import pandas as pd\n",
        "\n",
        "Dat1 = pd.read_csv('https://mopsfin.twse.com.tw/opendata/t187ap46_O_1.csv')\n",
        "Dat2 = pd.read_csv('https://mopsfin.twse.com.tw/opendata/t187ap46_L_1.csv')\n",
        "\n",
        "merged_data = pd.concat([Dat1, Dat2], ignore_index=True)\n",
        "\n",
        "print(merged_data.head())\n"
      ],
      "metadata": {
        "id": "WE4zQjmeeDoF"
      },
      "execution_count": null,
      "outputs": []
    }
  ]
}